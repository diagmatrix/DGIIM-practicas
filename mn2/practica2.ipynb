{
 "cells": [
  {
   "cell_type": "markdown",
   "metadata": {},
   "source": [
    "# Fórmulas de Derivación e Integración Numérica"
   ]
  },
  {
   "cell_type": "code",
   "execution_count": 1,
   "metadata": {},
   "outputs": [
    {
     "ename": "AttributeError",
     "evalue": "module 'cgi' has no attribute 'escape'",
     "output_type": "error",
     "traceback": [
      "\u001b[0;31m---------------------------------------------------------------------------\u001b[0m",
      "\u001b[0;31mAttributeError\u001b[0m                            Traceback (most recent call last)",
      "\u001b[0;32m/usr/lib/python3.8/site-packages/IPython/core/formatters.py\u001b[0m in \u001b[0;36m__call__\u001b[0;34m(self, obj)\u001b[0m\n\u001b[1;32m    343\u001b[0m             \u001b[0mmethod\u001b[0m \u001b[0;34m=\u001b[0m \u001b[0mget_real_method\u001b[0m\u001b[0;34m(\u001b[0m\u001b[0mobj\u001b[0m\u001b[0;34m,\u001b[0m \u001b[0mself\u001b[0m\u001b[0;34m.\u001b[0m\u001b[0mprint_method\u001b[0m\u001b[0;34m)\u001b[0m\u001b[0;34m\u001b[0m\u001b[0;34m\u001b[0m\u001b[0m\n\u001b[1;32m    344\u001b[0m             \u001b[0;32mif\u001b[0m \u001b[0mmethod\u001b[0m \u001b[0;32mis\u001b[0m \u001b[0;32mnot\u001b[0m \u001b[0;32mNone\u001b[0m\u001b[0;34m:\u001b[0m\u001b[0;34m\u001b[0m\u001b[0;34m\u001b[0m\u001b[0m\n\u001b[0;32m--> 345\u001b[0;31m                 \u001b[0;32mreturn\u001b[0m \u001b[0mmethod\u001b[0m\u001b[0;34m(\u001b[0m\u001b[0;34m)\u001b[0m\u001b[0;34m\u001b[0m\u001b[0;34m\u001b[0m\u001b[0m\n\u001b[0m\u001b[1;32m    346\u001b[0m             \u001b[0;32mreturn\u001b[0m \u001b[0;32mNone\u001b[0m\u001b[0;34m\u001b[0m\u001b[0;34m\u001b[0m\u001b[0m\n\u001b[1;32m    347\u001b[0m         \u001b[0;32melse\u001b[0m\u001b[0;34m:\u001b[0m\u001b[0;34m\u001b[0m\u001b[0;34m\u001b[0m\u001b[0m\n",
      "\u001b[0;32m~/mn2/version_information.py\u001b[0m in \u001b[0;36m_repr_html_\u001b[0;34m(self)\u001b[0m\n\u001b[1;32m    127\u001b[0m         \u001b[0mhtml\u001b[0m \u001b[0;34m+=\u001b[0m \u001b[0;34m\"<tr><th>Software</th><th>Version</th></tr>\"\u001b[0m\u001b[0;34m\u001b[0m\u001b[0;34m\u001b[0m\u001b[0m\n\u001b[1;32m    128\u001b[0m         \u001b[0;32mfor\u001b[0m \u001b[0mname\u001b[0m\u001b[0;34m,\u001b[0m \u001b[0mversion\u001b[0m \u001b[0;32min\u001b[0m \u001b[0mself\u001b[0m\u001b[0;34m.\u001b[0m\u001b[0mpackages\u001b[0m\u001b[0;34m:\u001b[0m\u001b[0;34m\u001b[0m\u001b[0;34m\u001b[0m\u001b[0m\n\u001b[0;32m--> 129\u001b[0;31m             \u001b[0m_version\u001b[0m \u001b[0;34m=\u001b[0m \u001b[0mcgi\u001b[0m\u001b[0;34m.\u001b[0m\u001b[0mescape\u001b[0m\u001b[0;34m(\u001b[0m\u001b[0mversion\u001b[0m\u001b[0;34m)\u001b[0m\u001b[0;34m\u001b[0m\u001b[0;34m\u001b[0m\u001b[0m\n\u001b[0m\u001b[1;32m    130\u001b[0m             \u001b[0mhtml\u001b[0m \u001b[0;34m+=\u001b[0m \u001b[0;34m\"<tr><td>%s</td><td>%s</td></tr>\"\u001b[0m \u001b[0;34m%\u001b[0m \u001b[0;34m(\u001b[0m\u001b[0mname\u001b[0m\u001b[0;34m,\u001b[0m \u001b[0m_version\u001b[0m\u001b[0;34m)\u001b[0m\u001b[0;34m\u001b[0m\u001b[0;34m\u001b[0m\u001b[0m\n\u001b[1;32m    131\u001b[0m \u001b[0;34m\u001b[0m\u001b[0m\n",
      "\u001b[0;31mAttributeError\u001b[0m: module 'cgi' has no attribute 'escape'"
     ]
    },
    {
     "data": {
      "application/json": {
       "Software versions": [
        {
         "module": "Python",
         "version": "3.8.2 64bit [GCC 9.2.1 20200130]"
        },
        {
         "module": "IPython",
         "version": "7.13.0"
        },
        {
         "module": "OS",
         "version": "Linux 5.5.13 1 MANJARO x86_64 with glibc2.2.5"
        },
        {
         "module": "numpy",
         "version": "1.18.2"
        },
        {
         "module": "matplotlib",
         "version": "3.2.1"
        },
        {
         "module": "sympy",
         "version": "1.5.1"
        }
       ]
      },
      "text/latex": [
       "\\begin{tabular}{|l|l|}\\hline\n",
       "{\\bf Software} & {\\bf Version} \\\\ \\hline\\hline\n",
       "Python & 3.8.2 64bit [GCC 9.2.1 20200130] \\\\ \\hline\n",
       "IPython & 7.13.0 \\\\ \\hline\n",
       "OS & Linux 5.5.13 1 MANJARO x86\\_64 with glibc2.2.5 \\\\ \\hline\n",
       "numpy & 1.18.2 \\\\ \\hline\n",
       "matplotlib & 3.2.1 \\\\ \\hline\n",
       "sympy & 1.5.1 \\\\ \\hline\n",
       "\\hline \\multicolumn{2}{|l|}{Sun May 10 21:31:26 2020 CEST} \\\\ \\hline\n",
       "\\end{tabular}\n"
      ],
      "text/plain": [
       "Software versions\n",
       "Python 3.8.2 64bit [GCC 9.2.1 20200130]\n",
       "IPython 7.13.0\n",
       "OS Linux 5.5.13 1 MANJARO x86_64 with glibc2.2.5\n",
       "numpy 1.18.2\n",
       "matplotlib 3.2.1\n",
       "sympy 1.5.1\n",
       "Sun May 10 21:31:26 2020 CEST"
      ]
     },
     "execution_count": 1,
     "metadata": {},
     "output_type": "execute_result"
    }
   ],
   "source": [
    "%reload_ext version_information\n",
    "%version_information numpy, matplotlib, sympy"
   ]
  },
  {
   "cell_type": "code",
   "execution_count": 2,
   "metadata": {},
   "outputs": [],
   "source": [
    "import numpy as np # Importamos el módulo NumPy con el pseudónimo np\n",
    "import sympy as sp # Importamos el módulo SymPy con el pseudónimo sp\n",
    "# sp.init_printing() # con esta opción obtendremos bonitas fórmulas en la pantalla\n",
    "# pero en las últimas versiones de Python parece ser que no hace falta indicarlo\n",
    "# Aquí importaremos dentro del módulo de gráficos Matplotlib el submódulo\n",
    "import matplotlib.pyplot as plt  #  Pyplot con el pseudónimo plt\n",
    "# usaremos una opción para poder visualizar los gráficos incrustados     \n",
    "#  en línea dentro de este mismo notebook    \n",
    "%matplotlib inline\n",
    "from random import random \n",
    "# Importamos la función generadora de números pseudoaleatorios"
   ]
  },
  {
   "cell_type": "markdown",
   "metadata": {},
   "source": [
    "## Ejercicio 1"
   ]
  },
  {
   "cell_type": "markdown",
   "metadata": {},
   "source": [
    "Obtenga mediante interpolación en el espacio $\\mathbb{P}_2$ una fórmula para aproximar $f''(a)$ del tipo combinación\n",
    "de $f(a-h)$, $f(a)$ y $f(a+h)$."
   ]
  },
  {
   "cell_type": "code",
   "execution_count": 3,
   "metadata": {
    "scrolled": true
   },
   "outputs": [
    {
     "data": {
      "text/latex": [
       "$\\displaystyle u f{\\left(a - h \\right)} + v f{\\left(a \\right)} + w f{\\left(a + h \\right)}$"
      ],
      "text/plain": [
       "u*f(a - h) + v*f(a) + w*f(a + h)"
      ]
     },
     "execution_count": 3,
     "metadata": {},
     "output_type": "execute_result"
    }
   ],
   "source": [
    "f = sp.Function('f')\n",
    "a,h = sp.symbols('a,h')\n",
    "u,v,w = sp.symbols('u,v,w')\n",
    "x = [a-h,a,a+h]\n",
    "p = u*f(x[0])+v*f(x[1])+w*f(x[2])\n",
    "p"
   ]
  },
  {
   "cell_type": "code",
   "execution_count": 4,
   "metadata": {},
   "outputs": [
    {
     "data": {
      "text/latex": [
       "$\\displaystyle u + v + w$"
      ],
      "text/plain": [
       "u + v + w"
      ]
     },
     "execution_count": 4,
     "metadata": {},
     "output_type": "execute_result"
    }
   ],
   "source": [
    "eq1 = u + v + w\n",
    "eq1"
   ]
  },
  {
   "cell_type": "code",
   "execution_count": 5,
   "metadata": {},
   "outputs": [
    {
     "data": {
      "text/latex": [
       "$\\displaystyle a v + u \\left(a - h\\right) + w \\left(a + h\\right)$"
      ],
      "text/plain": [
       "a*v + u*(a - h) + w*(a + h)"
      ]
     },
     "execution_count": 5,
     "metadata": {},
     "output_type": "execute_result"
    }
   ],
   "source": [
    "eq2 = u*x[0]+v*x[1]+w*x[2]\n",
    "eq2"
   ]
  },
  {
   "cell_type": "code",
   "execution_count": 6,
   "metadata": {},
   "outputs": [
    {
     "data": {
      "text/latex": [
       "$\\displaystyle a^{2} v + u \\left(a - h\\right)^{2} + w \\left(a + h\\right)^{2} - 2$"
      ],
      "text/plain": [
       "a**2*v + u*(a - h)**2 + w*(a + h)**2 - 2"
      ]
     },
     "execution_count": 6,
     "metadata": {},
     "output_type": "execute_result"
    }
   ],
   "source": [
    "eq3 = u*(x[0])**2+v*(x[1])**2+w*(x[2])**2 - 2\n",
    "eq3"
   ]
  },
  {
   "cell_type": "code",
   "execution_count": 7,
   "metadata": {},
   "outputs": [
    {
     "data": {
      "text/plain": [
       "{u: h**(-2), v: -2/h**2, w: h**(-2)}"
      ]
     },
     "execution_count": 7,
     "metadata": {},
     "output_type": "execute_result"
    }
   ],
   "source": [
    "sols = sp.solve([eq1, eq2,eq3], [u,v,w])\n",
    "sols"
   ]
  },
  {
   "cell_type": "code",
   "execution_count": 8,
   "metadata": {},
   "outputs": [
    {
     "data": {
      "text/latex": [
       "$\\displaystyle - \\frac{2 f{\\left(a \\right)}}{h^{2}} + \\frac{f{\\left(a - h \\right)}}{h^{2}} + \\frac{f{\\left(a + h \\right)}}{h^{2}}$"
      ],
      "text/plain": [
       "-2*f(a)/h**2 + f(a - h)/h**2 + f(a + h)/h**2"
      ]
     },
     "execution_count": 8,
     "metadata": {},
     "output_type": "execute_result"
    }
   ],
   "source": [
    "u = h**(-2)\n",
    "v = -2/h**2\n",
    "w = h**(-2)\n",
    "p = u*f(x[0])+v*f(x[1])+w*f(x[2])\n",
    "p"
   ]
  },
  {
   "cell_type": "markdown",
   "metadata": {},
   "source": [
    "## Ejercicio 2"
   ]
  },
  {
   "cell_type": "markdown",
   "metadata": {},
   "source": [
    "Con la fórmula obtenida en el ejercicio 1, halle una tabla de aproximaciones y errores de $f_1''(2.5)$, siendo $f_1(x)=x^x$, para $h=10^{-i},\\; i=1,\\ldots,5.$"
   ]
  },
  {
   "cell_type": "code",
   "execution_count": 9,
   "metadata": {},
   "outputs": [
    {
     "name": "stdout",
     "output_type": "stream",
     "text": [
      "i\t aproximación\t\t error\n",
      "1 \t 40.4205682979582 \t -0.178903441570732\n",
      "2 \t 40.24345023093338 \t -0.00178537454591066\n",
      "3 \t 40.24168271012604 \t -1.78537385764344e-5\n",
      "4 \t 40.24166464805603 \t 2.08331435658238e-7\n",
      "5 \t 40.24165344238281 \t 1.14140046534317e-5\n"
     ]
    }
   ],
   "source": [
    "z = sp.symbols('z')\n",
    "# Fórmula del ejercicio 1 preparada para hacer cálculos\n",
    "def _p(a,h,func):\n",
    "    return (-2*func(a))/h**2+func(a-h)/h**2+func(a+h)/h**2\n",
    "\n",
    "def f1(z):\n",
    "    return z**z\n",
    "_f1 = f1(z)\n",
    "ddf1 = sp.diff(_f1,z,2)\n",
    "print(\"i\\t aproximación\\t\\t error\")\n",
    "for i in range(1,6):\n",
    "    _h = 10**(-i)\n",
    "    aprox = _p(2.5,_h,f1)\n",
    "    error = ddf1.subs({z:2.5})-aprox\n",
    "    print(i,\"\\t\",aprox,\"\\t\",error)"
   ]
  },
  {
   "cell_type": "markdown",
   "metadata": {},
   "source": [
    "## Ejercicio 3"
   ]
  },
  {
   "cell_type": "markdown",
   "metadata": {},
   "source": [
    "Sea $f_2(x)=\\frac{x^2+40}{x+\\sqrt{5x}+7}$. Calcule una tabla que recoja las derivadas de $f_2$ en $x_i=1,2,\\ldots,10$, utilizando alguna de las fórmulas de derivación numérica de primer orden obtenidas al inicio de la práctica, con $h=10^{-3}$, y muestre al mismo tiempo el error cometido en cada punto. Repita el ejercicio con la fórmula centrada obtenida para la derivada primera y, finalmente, para la obtenida en el ejercicio 1 (con respecto a la segunda derivada)."
   ]
  },
  {
   "cell_type": "code",
   "execution_count": 10,
   "metadata": {},
   "outputs": [
    {
     "data": {
      "text/latex": [
       "$\\displaystyle \\frac{z^{2} + 40}{\\sqrt{5} \\sqrt{z} + z + 7}$"
      ],
      "text/plain": [
       "(z**2 + 40)/(sqrt(5)*sqrt(z) + z + 7)"
      ]
     },
     "execution_count": 10,
     "metadata": {},
     "output_type": "execute_result"
    }
   ],
   "source": [
    "def f2(z):\n",
    "    return (z**2+40)/(z+sp.sqrt(5*z)+7)\n",
    "f2(z)"
   ]
  },
  {
   "cell_type": "markdown",
   "metadata": {},
   "source": [
    "Fórmula $f'(a)\\simeq p'(a) = \\frac{f(a+h)-f(a)}{h}$"
   ]
  },
  {
   "cell_type": "code",
   "execution_count": 11,
   "metadata": {},
   "outputs": [
    {
     "data": {
      "text/latex": [
       "$\\displaystyle \\frac{- \\frac{a^{2} + 40}{\\sqrt{5} \\sqrt{a} + a + 7} + \\frac{\\left(a + h\\right)^{2} + 40}{a + h + \\sqrt{5 a + 5 h} + 7}}{h}$"
      ],
      "text/plain": [
       "(-(a**2 + 40)/(sqrt(5)*sqrt(a) + a + 7) + ((a + h)**2 + 40)/(a + h + sqrt(5*a + 5*h) + 7))/h"
      ]
     },
     "execution_count": 11,
     "metadata": {},
     "output_type": "execute_result"
    }
   ],
   "source": [
    "# Fórmula con dos nodos para hacer cálculos\n",
    "def p2nodos(a,h,func):\n",
    "    return (func(a+h)-func(a))/h\n",
    "p2nodos(a,h,f2)"
   ]
  },
  {
   "cell_type": "code",
   "execution_count": 12,
   "metadata": {},
   "outputs": [
    {
     "name": "stdout",
     "output_type": "stream",
     "text": [
      "x\t aproximación\t\t error\n",
      "1 \t -0.633075850823028 \t -0.000337990681874567\n",
      "2 \t -0.203588411025758 \t -0.000141580337663760\n",
      "3 \t 0.0136378345439931 \t -8.41579482348670e-5\n",
      "4 \t 0.152413829637452 \t -5.74471910999297e-5\n",
      "5 \t 0.250907359192087 \t -4.23072889731979e-5\n",
      "6 \t 0.325267201964411 \t -3.27156183384525e-5\n",
      "7 \t 0.383779273533639 \t -2.61842664070477e-5\n",
      "8 \t 0.431223324794435 \t -2.15041377862879e-5\n",
      "9 \t 0.470584759050149 \t -1.80199925133295e-5\n",
      "10 \t 0.503839418133873 \t -1.53477183351125e-5\n"
     ]
    }
   ],
   "source": [
    "_f2 = f2(z)\n",
    "df2 = sp.diff(_f2,z)\n",
    "_h = 10**(-3)\n",
    "print(\"x\\t aproximación\\t\\t error\")\n",
    "\n",
    "for i in range(1,11):\n",
    "    aprox = p2nodos(i,_h,f2).evalf()\n",
    "    error = df2.subs({z:i}).evalf()-aprox\n",
    "    print(i,\"\\t\",aprox,\"\\t\",error)"
   ]
  },
  {
   "cell_type": "markdown",
   "metadata": {},
   "source": [
    "Fórmula $f'(a)\\simeq p'(a) = \\frac{f(a+h)-f(a-h)}{2h}$"
   ]
  },
  {
   "cell_type": "code",
   "execution_count": 13,
   "metadata": {},
   "outputs": [
    {
     "data": {
      "text/latex": [
       "$\\displaystyle \\frac{- \\frac{\\left(a - h\\right)^{2} + 40}{a - h + \\sqrt{5 a - 5 h} + 7} + \\frac{\\left(a + h\\right)^{2} + 40}{a + h + \\sqrt{5 a + 5 h} + 7}}{2 h}$"
      ],
      "text/plain": [
       "(-((a - h)**2 + 40)/(a - h + sqrt(5*a - 5*h) + 7) + ((a + h)**2 + 40)/(a + h + sqrt(5*a + 5*h) + 7))/(2*h)"
      ]
     },
     "execution_count": 13,
     "metadata": {},
     "output_type": "execute_result"
    }
   ],
   "source": [
    "# Fórmula centrada para hacer cálculos\n",
    "def pcentrada(a,h,func):\n",
    "    return (func(a+h)-func(a-h))/(2*h)\n",
    "pcentrada(a,h,f2)"
   ]
  },
  {
   "cell_type": "code",
   "execution_count": 14,
   "metadata": {},
   "outputs": [
    {
     "name": "stdout",
     "output_type": "stream",
     "text": [
      "x\t aproximación\t\t error\n",
      "1 \t -0.633413983453845 \t 1.41948942933290e-7\n",
      "2 \t -0.203730021215875 \t 2.98524533148825e-8\n",
      "3 \t 0.0135536643823819 \t 1.22133763554022e-8\n",
      "4 \t 0.152356375979767 \t 6.46658451786131e-9\n",
      "5 \t 0.250865047976889 \t 3.92622495626327e-9\n",
      "6 \t 0.325234483748549 \t 2.59752375164624e-9\n",
      "7 \t 0.383753087445982 \t 1.82125048375781e-9\n",
      "8 \t 0.431201819322435 \t 1.33421368397890e-9\n",
      "9 \t 0.470566738047573 \t 1.01006214503485e-9\n",
      "10 \t 0.503824069630454 \t 7.85083331678038e-10\n"
     ]
    }
   ],
   "source": [
    "print(\"x\\t aproximación\\t\\t error\")\n",
    "\n",
    "for i in range(1,11):\n",
    "    aprox = pcentrada(i,_h,f2).evalf()\n",
    "    error = df2.subs({z:i}).evalf()-aprox\n",
    "    print(i,\"\\t\",aprox,\"\\t\",error)"
   ]
  },
  {
   "cell_type": "markdown",
   "metadata": {},
   "source": [
    "Fórmula del ejercicio 1 para la segunda derivada"
   ]
  },
  {
   "cell_type": "code",
   "execution_count": 15,
   "metadata": {},
   "outputs": [
    {
     "name": "stdout",
     "output_type": "stream",
     "text": [
      "x\t aproximación\t\t error\n",
      "1 \t 0.676265262511757 \t -1.64226381493826e-7\n",
      "2 \t 0.283220380673915 \t -1.64978090633205e-8\n",
      "3 \t 0.168340323474092 \t -3.54597107232735e-9\n",
      "4 \t 0.114907315758910 \t -2.86385658243571e-9\n",
      "5 \t 0.0846224306151271 \t -3.28133395455232e-10\n",
      "6 \t 0.0654364316769208 \t -3.12977893601740e-10\n",
      "7 \t 0.0523721756585832 \t -1.28954737166342e-9\n",
      "8 \t 0.0430109450178915 \t -1.15016406121438e-10\n",
      "9 \t 0.0360420061726519 \t -4.48903331173867e-10\n",
      "10 \t 0.0306970069922007 \t -3.30179633634131e-10\n"
     ]
    }
   ],
   "source": [
    "_df2 = df2\n",
    "ddf2 = sp.diff(_df2,z)\n",
    "\n",
    "print(\"x\\t aproximación\\t\\t error\")\n",
    "for i in range(1,11):\n",
    "    aprox = _p(i,_h,f2).evalf()\n",
    "    error = ddf2.subs({z:i}).evalf()-aprox\n",
    "    print(i,\"\\t\",aprox,\"\\t\",error)"
   ]
  },
  {
   "cell_type": "markdown",
   "metadata": {},
   "source": [
    "## Ejercicio 4"
   ]
  },
  {
   "cell_type": "markdown",
   "metadata": {},
   "source": [
    "Divida el intervalo $[1,2]$ en 100 partes iguales y aplique las fórmulas del rectángulo, Simpson y trapecio compuestas para aproximar la integral en dicho intervalo de $f_1$. Compare dichos resultados."
   ]
  },
  {
   "cell_type": "code",
   "execution_count": 16,
   "metadata": {
    "scrolled": true
   },
   "outputs": [
    {
     "name": "stdout",
     "output_type": "stream",
     "text": [
      "Rectángulo:  2.0354943390855573\n",
      "Simpson:  2.0504462346235295\n",
      "Trapecio:  2.0504943390855574\n"
     ]
    }
   ],
   "source": [
    "# Fórmula del rectángulo compuesta\n",
    "def rectangulo_c(a,b,n,func):\n",
    "    h = (b-a)/n\n",
    "    return h*sum([func(a+i*h) for i in range(0,n)])\n",
    "# Fórmula de Simpson compuesta\n",
    "def simpson_c(a,b,n,func):\n",
    "    h = (b-a)/(2*n)\n",
    "    S1 = sum([func(a+2*i*h) for i in range(1,n)])\n",
    "    S2 = sum([func(a+(2*i-1)*h) for i in range(1,n+1)])\n",
    "    return h/3*(func(a)+2*S1+4*S2+func(b))\n",
    "# Fórmula del trapecio compuesta\n",
    "def trapecio_c(a,b,n,func):\n",
    "    h = (b-a)/n\n",
    "    S = sum([func(a+i*h) for i in range(1,n)])\n",
    "    return h/2*(func(a)+2*S+func(b))\n",
    "print(\"Rectángulo: \",rectangulo_c(1,2,100,f1))\n",
    "print(\"Simpson: \",simpson_c(1,2,100,f1))\n",
    "print(\"Trapecio: \",trapecio_c(1,2,100,f1))"
   ]
  },
  {
   "cell_type": "markdown",
   "metadata": {},
   "source": [
    "El método de Simpson da un valor muy lejano al de los otros dos métodos"
   ]
  },
  {
   "cell_type": "markdown",
   "metadata": {},
   "source": [
    "## Ejercicio 5"
   ]
  },
  {
   "cell_type": "markdown",
   "metadata": {},
   "source": [
    "Repita el ejercicio 4 para $f_2$."
   ]
  },
  {
   "cell_type": "code",
   "execution_count": 17,
   "metadata": {},
   "outputs": [
    {
     "name": "stdout",
     "output_type": "stream",
     "text": [
      "Rectángulo:  3.77852320278209\n",
      "Simpson:  3.77658111777025\n",
      "Trapecio:  3.77658469845732\n"
     ]
    }
   ],
   "source": [
    "print(\"Rectángulo: \",rectangulo_c(1,2,100,f2))\n",
    "print(\"Simpson: \",simpson_c(1,2,100,f2).evalf())\n",
    "print(\"Trapecio: \",trapecio_c(1,2,100,f2).evalf())"
   ]
  },
  {
   "cell_type": "markdown",
   "metadata": {},
   "source": [
    "## Ejercicio 6"
   ]
  },
  {
   "cell_type": "markdown",
   "metadata": {},
   "source": [
    "Sea $f_3(x)=x^{15} e^x$ en $[0,2]$. Vamos a dividir el intervalo en $10\\times 2^n$ subintervalos, es decir, $10,\\,20,\\,40,\\, 80,\\ldots $ y a aplicar la fórmula de Simpson compuesta hasta que la diferencia entre dos aproximaciones consecutivas (por ejemplo, podrían\n",
    "ser con $20$ y $40$ subintervalos) sea menor que $10^{-2}$, dando en tal caso por buena la última aproximación obtenida. Programe\n",
    "y calcule dicha aproximación. Compare ambas aproximaciones con\n",
    "el valor exacto."
   ]
  },
  {
   "cell_type": "code",
   "execution_count": 18,
   "metadata": {},
   "outputs": [
    {
     "data": {
      "text/latex": [
       "$\\displaystyle z^{15} e^{z}$"
      ],
      "text/plain": [
       "z**15*exp(z)"
      ]
     },
     "execution_count": 18,
     "metadata": {},
     "output_type": "execute_result"
    }
   ],
   "source": [
    "def f3(z):\n",
    "    return z**15*sp.exp(z)\n",
    "def subintervalos(i):\n",
    "    return 10*2**i\n",
    "f3(z)"
   ]
  },
  {
   "cell_type": "code",
   "execution_count": 19,
   "metadata": {},
   "outputs": [
    {
     "name": "stdout",
     "output_type": "stream",
     "text": [
      "subintervalos\t aproximación\n",
      "10\t\t 27129.0309129197\n",
      "20 \t\t 27067.0299147213\n",
      "40 \t\t 27062.9758335549\n",
      "80 \t\t 27062.7195491678\n",
      "160 \t\t 27062.7034855828\n",
      "320 \t\t 27062.7024808912\n"
     ]
    }
   ],
   "source": [
    "tol = False\n",
    "i = 0\n",
    "anterior = simpson_c(0,2,subintervalos(i),f3).evalf()\n",
    "print(\"subintervalos\\t aproximación\")\n",
    "print(\"10\\t\\t\",anterior)\n",
    "while(tol==False):\n",
    "    i = i + 1\n",
    "    it = simpson_c(0,2,subintervalos(i),f3).evalf()\n",
    "    if (abs(anterior-it)<10**(-2)):\n",
    "        tol = True\n",
    "    anterior = it\n",
    "    print(subintervalos(i),\"\\t\\t\",it)"
   ]
  },
  {
   "cell_type": "code",
   "execution_count": 20,
   "metadata": {},
   "outputs": [
    {
     "data": {
      "text/plain": [
       "[27062.7024808912, 27062.7024138996]"
      ]
     },
     "execution_count": 20,
     "metadata": {},
     "output_type": "execute_result"
    }
   ],
   "source": [
    "_f3 = f3(z)\n",
    "valor_real = sp.integrate(_f3,(z,0,2)).evalf()\n",
    "[it,valor_real]"
   ]
  },
  {
   "cell_type": "markdown",
   "metadata": {},
   "source": [
    "Podemos ver que son exactas ambas en las tres primeras cifras decimales"
   ]
  },
  {
   "cell_type": "markdown",
   "metadata": {},
   "source": [
    "## Ejercicio 7"
   ]
  },
  {
   "cell_type": "markdown",
   "metadata": {},
   "source": [
    "Calcule las fórmulas gaussianas con $2$ y $3$ nodos,en el intervalo $[-1,1]$, siendo la función peso el valor absoluto de la variable. Aplíquelas para aproximar la función $x\\; e^x$ en $[-1,1]$ y compare los resultados con el valor exacto (organizando los cálculos de forma adecuada)."
   ]
  },
  {
   "cell_type": "code",
   "execution_count": 21,
   "metadata": {},
   "outputs": [],
   "source": [
    "def f4(z):\n",
    "    return z*sp.exp(z)\n",
    "def w(z):\n",
    "    return abs(z)\n",
    "\n",
    "_f4 = f4(z)\n",
    "x0,x1,x2 = sp.symbols('x0,x1,x2')\n",
    "a0,a1,a2 = sp.symbols('a0,a1,a2')\n",
    "coefs2 = [a0,a1]\n",
    "nodos2 = [x0,x1]\n",
    "coefs3 = coefs2 + [a2]\n",
    "nodos3 = nodos2 + [x2]"
   ]
  },
  {
   "cell_type": "markdown",
   "metadata": {},
   "source": [
    "**2 nodos**"
   ]
  },
  {
   "cell_type": "code",
   "execution_count": 22,
   "metadata": {},
   "outputs": [
    {
     "data": {
      "text/plain": [
       "[a0 + a1 - E - 5*exp(-1) + 4,\n",
       " a0*x0 + a1*x1 - 12 + 2*E + 16*exp(-1),\n",
       " a0*x0**2 + a1*x1**2 - 9*E - 65*exp(-1) + 48,\n",
       " a0*x0**3 + a1*x1**3 - 240 + 44*E + 326*exp(-1)]"
      ]
     },
     "execution_count": 22,
     "metadata": {},
     "output_type": "execute_result"
    }
   ],
   "source": [
    "n = 2; grexact = 2*n-1\n",
    "incogs2 = coefs2 + nodos2\n",
    "ecs2 = [np.dot([(z**i).subs({z:nodos2[j]}) for j in range(n)],coefs2)-sp.integrate(w(z)*z**i*f4(z),(z,-1,1)) for i in range(grexact+1)]\n",
    "ecs2"
   ]
  },
  {
   "cell_type": "code",
   "execution_count": 23,
   "metadata": {},
   "outputs": [],
   "source": [
    "solsGauss2 = sp.solve(ecs2,incogs2)"
   ]
  },
  {
   "cell_type": "code",
   "execution_count": 24,
   "metadata": {},
   "outputs": [],
   "source": [
    "for i in range(n):\n",
    "    coefs2[i] = solsGauss2[0][i].evalf()\n",
    "    nodos2[i] = solsGauss2[0][n+i].evalf()"
   ]
  },
  {
   "cell_type": "code",
   "execution_count": 25,
   "metadata": {
    "scrolled": true
   },
   "outputs": [
    {
     "data": {
      "text/latex": [
       "$\\displaystyle - 0.129148485325562 f{\\left(-0.847785006742853 \\right)} + 0.686827519641819 f{\\left(0.826808941977774 \\right)}$"
      ],
      "text/plain": [
       "-0.129148485325562*f(-0.847785006742853) + 0.686827519641819*f(0.826808941977774)"
      ]
     },
     "execution_count": 25,
     "metadata": {},
     "output_type": "execute_result"
    }
   ],
   "source": [
    "gauss2 = np.dot([f(nodos2[i]) for i in range(n)],coefs2)\n",
    "gauss2"
   ]
  },
  {
   "cell_type": "code",
   "execution_count": 26,
   "metadata": {},
   "outputs": [
    {
     "name": "stdout",
     "output_type": "stream",
     "text": [
      "Valor aproximado: 1.34507103428975 \n",
      "Valor real: 0.735758882342885\n"
     ]
    }
   ],
   "source": [
    "gauss2 = np.dot([f4(nodos2[i]) for i in range(n)],coefs2)\n",
    "print(\"Valor aproximado:\",gauss2,\"\\nValor real:\",sp.integrate(_f4,(z,-1,1)).evalf())"
   ]
  },
  {
   "cell_type": "markdown",
   "metadata": {},
   "source": [
    "**3 nodos**"
   ]
  },
  {
   "cell_type": "code",
   "execution_count": 27,
   "metadata": {},
   "outputs": [
    {
     "data": {
      "text/plain": [
       "[a0 + a1 + a2 - E - 5*exp(-1) + 4,\n",
       " a0*x0 + a1*x1 + a2*x2 - 12 + 2*E + 16*exp(-1),\n",
       " a0*x0**2 + a1*x1**2 + a2*x2**2 - 9*E - 65*exp(-1) + 48,\n",
       " a0*x0**3 + a1*x1**3 + a2*x2**3 - 240 + 44*E + 326*exp(-1),\n",
       " a0*x0**4 + a1*x1**4 + a2*x2**4 - 265*E - 1957*exp(-1) + 1440,\n",
       " a0*x0**5 + a1*x1**5 + a2*x2**5 - 10080 + 1854*E + 13700*exp(-1)]"
      ]
     },
     "execution_count": 27,
     "metadata": {},
     "output_type": "execute_result"
    }
   ],
   "source": [
    "n = 3; grexact = 2*n-1\n",
    "incogs3 = coefs3 + nodos3\n",
    "ecs3 = [np.dot([(z**i).subs({z:nodos3[j]}) for j in range(n)],coefs3)-sp.integrate(w(z)*z**i*f4(z),(z,-1,1)) for i in range(grexact+1)]\n",
    "ecs3"
   ]
  },
  {
   "cell_type": "code",
   "execution_count": 28,
   "metadata": {},
   "outputs": [],
   "source": [
    "solsGauss3 = sp.solve(ecs3,incogs3)"
   ]
  },
  {
   "cell_type": "code",
   "execution_count": 29,
   "metadata": {},
   "outputs": [
    {
     "ename": "NameError",
     "evalue": "name 'solsGauss3' is not defined",
     "output_type": "error",
     "traceback": [
      "\u001b[0;31m---------------------------------------------------------------------------\u001b[0m",
      "\u001b[0;31mNameError\u001b[0m                                 Traceback (most recent call last)",
      "\u001b[0;32m<ipython-input-29-70b28b8a9d0b>\u001b[0m in \u001b[0;36m<module>\u001b[0;34m\u001b[0m\n\u001b[1;32m      1\u001b[0m \u001b[0;32mfor\u001b[0m \u001b[0mi\u001b[0m \u001b[0;32min\u001b[0m \u001b[0mrange\u001b[0m\u001b[0;34m(\u001b[0m\u001b[0mn\u001b[0m\u001b[0;34m)\u001b[0m\u001b[0;34m:\u001b[0m\u001b[0;34m\u001b[0m\u001b[0;34m\u001b[0m\u001b[0m\n\u001b[0;32m----> 2\u001b[0;31m     \u001b[0mcoefs3\u001b[0m\u001b[0;34m[\u001b[0m\u001b[0mi\u001b[0m\u001b[0;34m]\u001b[0m \u001b[0;34m=\u001b[0m \u001b[0msolsGauss3\u001b[0m\u001b[0;34m[\u001b[0m\u001b[0;36m0\u001b[0m\u001b[0;34m]\u001b[0m\u001b[0;34m[\u001b[0m\u001b[0mi\u001b[0m\u001b[0;34m]\u001b[0m\u001b[0;34m.\u001b[0m\u001b[0mevalf\u001b[0m\u001b[0;34m(\u001b[0m\u001b[0;34m)\u001b[0m\u001b[0;34m\u001b[0m\u001b[0;34m\u001b[0m\u001b[0m\n\u001b[0m\u001b[1;32m      3\u001b[0m     \u001b[0mnodos3\u001b[0m\u001b[0;34m[\u001b[0m\u001b[0mi\u001b[0m\u001b[0;34m]\u001b[0m \u001b[0;34m=\u001b[0m \u001b[0msolsGauss3\u001b[0m\u001b[0;34m[\u001b[0m\u001b[0;36m0\u001b[0m\u001b[0;34m]\u001b[0m\u001b[0;34m[\u001b[0m\u001b[0mn\u001b[0m\u001b[0;34m+\u001b[0m\u001b[0mi\u001b[0m\u001b[0;34m]\u001b[0m\u001b[0;34m.\u001b[0m\u001b[0mevalf\u001b[0m\u001b[0;34m(\u001b[0m\u001b[0;34m)\u001b[0m\u001b[0;34m\u001b[0m\u001b[0;34m\u001b[0m\u001b[0m\n",
      "\u001b[0;31mNameError\u001b[0m: name 'solsGauss3' is not defined"
     ]
    }
   ],
   "source": [
    "for i in range(n):\n",
    "    coefs3[i] = solsGauss3[0][i].evalf()\n",
    "    nodos3[i] = solsGauss3[0][n+i].evalf()"
   ]
  },
  {
   "cell_type": "code",
   "execution_count": 30,
   "metadata": {
    "scrolled": true
   },
   "outputs": [
    {
     "data": {
      "text/latex": [
       "$\\displaystyle a_{0} f{\\left(x_{0} \\right)} + a_{1} f{\\left(x_{1} \\right)} + a_{2} f{\\left(x_{2} \\right)}$"
      ],
      "text/plain": [
       "a0*f(x0) + a1*f(x1) + a2*f(x2)"
      ]
     },
     "execution_count": 30,
     "metadata": {},
     "output_type": "execute_result"
    }
   ],
   "source": [
    "gauss3 = np.dot([f(nodos3[i]) for i in range(n)],coefs3)\n",
    "gauss3"
   ]
  },
  {
   "cell_type": "code",
   "execution_count": 31,
   "metadata": {},
   "outputs": [
    {
     "name": "stdout",
     "output_type": "stream",
     "text": [
      "Valor aproximado: a0*f(x0) + a1*f(x1) + a2*f(x2) \n",
      "Valor real: 0.735758882342885\n"
     ]
    }
   ],
   "source": [
    "print(\"Valor aproximado:\",gauss3,\"\\nValor real:\",sp.integrate(_f4,(z,-1,1)).evalf())"
   ]
  },
  {
   "cell_type": "markdown",
   "metadata": {},
   "source": [
    "## Ejercicio 8"
   ]
  },
  {
   "cell_type": "markdown",
   "metadata": {},
   "source": [
    "Programar las técnicas de integración de Romberg y adaptativa, para después aplicarlas a la aproximación de la siguiente integral $$\\int_a^b p(x)\\, dx$$\n",
    "siendo  $\\;a=\\displaystyle\\min_{0\\leq i\\leq 7}{d_i}$, $\\;b=\\displaystyle\\max_{0\\leq i\\leq 7}{d_i}$ y \n",
    "$$p(x)=d_0 + d_1 x + d_2 x^2 + d_3 x^3+ d_4 x^4 + d_5 x^5 + d_6 x^6 + d_7 x^7 $$\n",
    "(siendo $d_0, d_1, \\ldots, d_7$ los dígitos de su DNI, pasaporte o tarjeta de residente)."
   ]
  },
  {
   "cell_type": "code",
   "execution_count": 60,
   "metadata": {},
   "outputs": [
    {
     "data": {
      "text/latex": [
       "$\\displaystyle 5 z^{7} + 4 z^{6} + 6 z^{5} + 3 z^{4} + 7 z^{3} + 4 z^{2} + 5 z + 1$"
      ],
      "text/plain": [
       "5*z**7 + 4*z**6 + 6*z**5 + 3*z**4 + 7*z**3 + 4*z**2 + 5*z + 1"
      ]
     },
     "execution_count": 60,
     "metadata": {},
     "output_type": "execute_result"
    }
   ],
   "source": [
    "def p(z):\n",
    "    return 1+5*z+4*z**2+7*z**3+3*z**4+6*z**5+4*z**6+5*z**7\n",
    "_p = p(z)\n",
    "a = 1\n",
    "b = 7\n",
    "p(z)"
   ]
  },
  {
   "cell_type": "code",
   "execution_count": 65,
   "metadata": {},
   "outputs": [],
   "source": [
    "def romberg(a,b,func,N):\n",
    "    R = [[0 for i in range(N)] for j in range(N)]\n",
    "    for i in range(0,N):\n",
    "        for j in range(0,i+1):\n",
    "            if j==0:\n",
    "                R[i][j] = trapecio_c(a,b,2**i,func)\n",
    "            else:\n",
    "                R[i][j] = (4**j*R[i][j-1]-R[i-1][j-1])/(4**j-1)\n",
    "    return R\n",
    "def simpson(a,b,func):\n",
    "    m = (a+b)/2\n",
    "    return ((b-a)/6)*(func(a)+4*func(m)+func(b))\n",
    "def adaptativa(a,b,func,tol):\n",
    "    m = (a+b)/2\n",
    "    sol = simpson(a,m,func) + simpson(m,b,func)\n",
    "    if (abs(simpson(a,b,func)-sol)>=15*tol):\n",
    "        sol = adaptativa(a,m,func,tol/2) + adaptativa(m,b,func,tol/2)\n",
    "    return sol"
   ]
  },
  {
   "cell_type": "code",
   "execution_count": 70,
   "metadata": {},
   "outputs": [
    {
     "name": "stdout",
     "output_type": "stream",
     "text": [
      "Romberg: 4206109.028571426\n",
      "Adaptativa: 4206109.028574527\n",
      "Valor real: 4206109.02857143\n"
     ]
    }
   ],
   "source": [
    "sol_r = romberg(a,b,p,10)[9][9]\n",
    "sol_a = adaptativa(a,b,p,10**(-5))\n",
    "sol = sp.integrate(_p,(z,1,7)).evalf()\n",
    "print(\"Romberg:\",sol_r)\n",
    "print(\"Adaptativa:\",sol_a)\n",
    "print(\"Valor real:\",sol)"
   ]
  }
 ],
 "metadata": {
  "kernelspec": {
   "display_name": "Python 3",
   "language": "python",
   "name": "python3"
  },
  "language_info": {
   "codemirror_mode": {
    "name": "ipython",
    "version": 3
   },
   "file_extension": ".py",
   "mimetype": "text/x-python",
   "name": "python",
   "nbconvert_exporter": "python",
   "pygments_lexer": "ipython3",
   "version": "3.9.1"
  }
 },
 "nbformat": 4,
 "nbformat_minor": 2
}
