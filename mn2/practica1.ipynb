{
 "cells": [
  {
   "cell_type": "markdown",
   "metadata": {},
   "source": [
    "# Resolución numérica de ecuaciones no lineales"
   ]
  },
  {
   "cell_type": "code",
   "execution_count": 3,
   "metadata": {},
   "outputs": [
    {
     "ename": "AttributeError",
     "evalue": "module 'cgi' has no attribute 'escape'",
     "output_type": "error",
     "traceback": [
      "\u001b[0;31m---------------------------------------------------------------------------\u001b[0m",
      "\u001b[0;31mAttributeError\u001b[0m                            Traceback (most recent call last)",
      "\u001b[0;32m/usr/lib/python3.8/site-packages/IPython/core/formatters.py\u001b[0m in \u001b[0;36m__call__\u001b[0;34m(self, obj)\u001b[0m\n\u001b[1;32m    343\u001b[0m             \u001b[0mmethod\u001b[0m \u001b[0;34m=\u001b[0m \u001b[0mget_real_method\u001b[0m\u001b[0;34m(\u001b[0m\u001b[0mobj\u001b[0m\u001b[0;34m,\u001b[0m \u001b[0mself\u001b[0m\u001b[0;34m.\u001b[0m\u001b[0mprint_method\u001b[0m\u001b[0;34m)\u001b[0m\u001b[0;34m\u001b[0m\u001b[0;34m\u001b[0m\u001b[0m\n\u001b[1;32m    344\u001b[0m             \u001b[0;32mif\u001b[0m \u001b[0mmethod\u001b[0m \u001b[0;32mis\u001b[0m \u001b[0;32mnot\u001b[0m \u001b[0;32mNone\u001b[0m\u001b[0;34m:\u001b[0m\u001b[0;34m\u001b[0m\u001b[0;34m\u001b[0m\u001b[0m\n\u001b[0;32m--> 345\u001b[0;31m                 \u001b[0;32mreturn\u001b[0m \u001b[0mmethod\u001b[0m\u001b[0;34m(\u001b[0m\u001b[0;34m)\u001b[0m\u001b[0;34m\u001b[0m\u001b[0;34m\u001b[0m\u001b[0m\n\u001b[0m\u001b[1;32m    346\u001b[0m             \u001b[0;32mreturn\u001b[0m \u001b[0;32mNone\u001b[0m\u001b[0;34m\u001b[0m\u001b[0;34m\u001b[0m\u001b[0m\n\u001b[1;32m    347\u001b[0m         \u001b[0;32melse\u001b[0m\u001b[0;34m:\u001b[0m\u001b[0;34m\u001b[0m\u001b[0;34m\u001b[0m\u001b[0m\n",
      "\u001b[0;32m~/mn2/version_information.py\u001b[0m in \u001b[0;36m_repr_html_\u001b[0;34m(self)\u001b[0m\n\u001b[1;32m    127\u001b[0m         \u001b[0mhtml\u001b[0m \u001b[0;34m+=\u001b[0m \u001b[0;34m\"<tr><th>Software</th><th>Version</th></tr>\"\u001b[0m\u001b[0;34m\u001b[0m\u001b[0;34m\u001b[0m\u001b[0m\n\u001b[1;32m    128\u001b[0m         \u001b[0;32mfor\u001b[0m \u001b[0mname\u001b[0m\u001b[0;34m,\u001b[0m \u001b[0mversion\u001b[0m \u001b[0;32min\u001b[0m \u001b[0mself\u001b[0m\u001b[0;34m.\u001b[0m\u001b[0mpackages\u001b[0m\u001b[0;34m:\u001b[0m\u001b[0;34m\u001b[0m\u001b[0;34m\u001b[0m\u001b[0m\n\u001b[0;32m--> 129\u001b[0;31m             \u001b[0m_version\u001b[0m \u001b[0;34m=\u001b[0m \u001b[0mcgi\u001b[0m\u001b[0;34m.\u001b[0m\u001b[0mescape\u001b[0m\u001b[0;34m(\u001b[0m\u001b[0mversion\u001b[0m\u001b[0;34m)\u001b[0m\u001b[0;34m\u001b[0m\u001b[0;34m\u001b[0m\u001b[0m\n\u001b[0m\u001b[1;32m    130\u001b[0m             \u001b[0mhtml\u001b[0m \u001b[0;34m+=\u001b[0m \u001b[0;34m\"<tr><td>%s</td><td>%s</td></tr>\"\u001b[0m \u001b[0;34m%\u001b[0m \u001b[0;34m(\u001b[0m\u001b[0mname\u001b[0m\u001b[0;34m,\u001b[0m \u001b[0m_version\u001b[0m\u001b[0;34m)\u001b[0m\u001b[0;34m\u001b[0m\u001b[0;34m\u001b[0m\u001b[0m\n\u001b[1;32m    131\u001b[0m \u001b[0;34m\u001b[0m\u001b[0m\n",
      "\u001b[0;31mAttributeError\u001b[0m: module 'cgi' has no attribute 'escape'"
     ]
    },
    {
     "data": {
      "application/json": {
       "Software versions": [
        {
         "module": "Python",
         "version": "3.8.2 64bit [GCC 9.2.1 20200130]"
        },
        {
         "module": "IPython",
         "version": "7.13.0"
        },
        {
         "module": "OS",
         "version": "Linux 5.5.13 1 MANJARO x86_64 with glibc2.2.5"
        },
        {
         "module": "numpy",
         "version": "1.18.2"
        },
        {
         "module": "matplotlib",
         "version": "3.2.1"
        },
        {
         "module": "sympy",
         "version": "1.5.1"
        }
       ]
      },
      "text/latex": [
       "\\begin{tabular}{|l|l|}\\hline\n",
       "{\\bf Software} & {\\bf Version} \\\\ \\hline\\hline\n",
       "Python & 3.8.2 64bit [GCC 9.2.1 20200130] \\\\ \\hline\n",
       "IPython & 7.13.0 \\\\ \\hline\n",
       "OS & Linux 5.5.13 1 MANJARO x86\\_64 with glibc2.2.5 \\\\ \\hline\n",
       "numpy & 1.18.2 \\\\ \\hline\n",
       "matplotlib & 3.2.1 \\\\ \\hline\n",
       "sympy & 1.5.1 \\\\ \\hline\n",
       "\\hline \\multicolumn{2}{|l|}{Sun May 10 17:02:32 2020 CEST} \\\\ \\hline\n",
       "\\end{tabular}\n"
      ],
      "text/plain": [
       "Software versions\n",
       "Python 3.8.2 64bit [GCC 9.2.1 20200130]\n",
       "IPython 7.13.0\n",
       "OS Linux 5.5.13 1 MANJARO x86_64 with glibc2.2.5\n",
       "numpy 1.18.2\n",
       "matplotlib 3.2.1\n",
       "sympy 1.5.1\n",
       "Sun May 10 17:02:32 2020 CEST"
      ]
     },
     "execution_count": 3,
     "metadata": {},
     "output_type": "execute_result"
    }
   ],
   "source": [
    "%reload_ext version_information\n",
    "%version_information numpy, matplotlib, sympy"
   ]
  },
  {
   "cell_type": "code",
   "execution_count": 4,
   "metadata": {},
   "outputs": [],
   "source": [
    "import numpy as np\n",
    "%matplotlib inline\n",
    "import matplotlib.pyplot as plt\n",
    "import sympy as sp\n",
    "from decimal import *"
   ]
  },
  {
   "cell_type": "code",
   "execution_count": 3,
   "metadata": {},
   "outputs": [
    {
     "data": {
      "text/plain": [
       "28"
      ]
     },
     "execution_count": 3,
     "metadata": {},
     "output_type": "execute_result"
    }
   ],
   "source": [
    "mporig = getcontext().prec\n",
    "mporig  # Esta sería la precisión con la que se trabaja por defecto"
   ]
  },
  {
   "cell_type": "markdown",
   "metadata": {},
   "source": [
    "## Ejercicio 1"
   ]
  },
  {
   "cell_type": "markdown",
   "metadata": {},
   "source": [
    "Demuestre que la ecuación  $x^3+4 x^2=10$  tiene una única raíz en el intervalo $[1,2]$.  Aproxime dicha\n",
    "raíz con el método de bisección con al menos 3 cifras decimales exactas. ¿Cuántas iteraciones serán necesarias para\n",
    "conseguir 5 cifras decimales exactas?  Aproxime también la raíz con el método de Newton-Raphson partiendo del extremo adecuado\n",
    "hasta que la diferencia en valor absoluto, entre dos aproximaciones consecutivas sea  inferior a  $10^{-3}$."
   ]
  },
  {
   "cell_type": "code",
   "execution_count": 5,
   "metadata": {},
   "outputs": [
    {
     "data": {
      "text/plain": [
       "[-5, 14]"
      ]
     },
     "execution_count": 5,
     "metadata": {},
     "output_type": "execute_result"
    }
   ],
   "source": [
    "x = sp.symbols('x')\n",
    "def f(x):\n",
    "    return x**3+4*x**2-10\n",
    "# Vemos los valores en los extremos del intervalo\n",
    "[f(1),f(2)]"
   ]
  },
  {
   "cell_type": "markdown",
   "metadata": {},
   "source": [
    "Por el Teorema de Bolzano, sabemos que habrá al menos una raíz en $]1,2[$. Como además $f(x)$ es claramente creciente en el intervalo, podemos asegurar que tendrá una única raíz en ese intervalo."
   ]
  },
  {
   "cell_type": "code",
   "execution_count": 5,
   "metadata": {},
   "outputs": [
    {
     "data": {
      "text/plain": [
       "1.36517333984375"
      ]
     },
     "execution_count": 5,
     "metadata": {},
     "output_type": "execute_result"
    }
   ],
   "source": [
    "def biseccion(a0,b0,cifras,n):\n",
    "    niter = n + 1\n",
    "    a = a0\n",
    "    b = b0\n",
    "    c = (a+b)/2\n",
    "    prec = 10**(-cifras)\n",
    "    if (abs(f(c))>prec):\n",
    "        if (np.sign(f(a))==np.sign(f(c))):\n",
    "            a = c\n",
    "            res = biseccion(a,b,cifras,niter)\n",
    "            c = res[0]\n",
    "            niter = res[1]\n",
    "        if (np.sign(f(b))==np.sign(f(c))):\n",
    "            b = c\n",
    "            res = biseccion(a,b,cifras,niter)\n",
    "            c = res[0]\n",
    "            niter = res[1]\n",
    "    return [c,niter]\n",
    "\n",
    "sol = biseccion(1,2,3,0)[0]\n",
    "sol"
   ]
  },
  {
   "cell_type": "code",
   "execution_count": 6,
   "metadata": {},
   "outputs": [
    {
     "data": {
      "text/plain": [
       "20"
      ]
     },
     "execution_count": 6,
     "metadata": {},
     "output_type": "execute_result"
    }
   ],
   "source": [
    "n_iter_cinco = biseccion(1,2,5,0)[1]\n",
    "n_iter_cinco"
   ]
  },
  {
   "cell_type": "code",
   "execution_count": 7,
   "metadata": {},
   "outputs": [
    {
     "data": {
      "text/plain": [
       "1.3652300139161466"
      ]
     },
     "execution_count": 7,
     "metadata": {},
     "output_type": "execute_result"
    }
   ],
   "source": [
    "def df(x):\n",
    "    return 3*x**2+8*x\n",
    "def newton_raphson(x_n,cifras):\n",
    "    siguiente = x_n - (f(x_n)/df(x_n))\n",
    "    prec = 10**(-cifras)\n",
    "    error = x_n - siguiente\n",
    "    if (abs(error)>prec):\n",
    "        siguiente = newton_raphson(siguiente,cifras)\n",
    "    return siguiente\n",
    "sol_nr = newton_raphson(2,3)\n",
    "sol_nr"
   ]
  },
  {
   "cell_type": "markdown",
   "metadata": {},
   "source": [
    "## Ejercicio 2"
   ]
  },
  {
   "cell_type": "markdown",
   "metadata": {},
   "source": [
    "Encuentre una aproximación de la raíz cúbica de 25 con dos decimales exactos, usando el algoritmo de bisección."
   ]
  },
  {
   "cell_type": "markdown",
   "metadata": {},
   "source": [
    "Para resolver el ejercicio tomamos la función $x-25^{^1_3}=0$, y le aplicamos el método de bisección. Como la raíz cúbica de 27 es 3 y 2 es la raíz cúbica de 8, tomamos el intervalo $[2,3]$."
   ]
  },
  {
   "cell_type": "code",
   "execution_count": 8,
   "metadata": {},
   "outputs": [
    {
     "data": {
      "text/plain": [
       "2.921875"
      ]
     },
     "execution_count": 8,
     "metadata": {},
     "output_type": "execute_result"
    }
   ],
   "source": [
    "def f(x):\n",
    "    return x-25**(1./3.)\n",
    "\n",
    "sol = biseccion(2,3,2,0)[0]\n",
    "sol"
   ]
  },
  {
   "cell_type": "markdown",
   "metadata": {},
   "source": [
    "## Ejercicio 3"
   ]
  },
  {
   "cell_type": "markdown",
   "metadata": {},
   "source": [
    "3.- Use el método de Newton-Raphson para aproximar las soluciones de las siguientes ecuaciones con precisión $10^{-5}$ , partiendo de un valor adecuado, próximo a cada una de ellas en cada caso.\n",
    "\n",
    "i) $x^3-x-1 = 0$  en $[1,2]$.\n",
    "\n",
    "ii) $3x=2+x^2-e^x$.\n",
    "\n",
    "iii) $x^2+10 cos x+x=0$."
   ]
  },
  {
   "cell_type": "code",
   "execution_count": 9,
   "metadata": {},
   "outputs": [
    {
     "data": {
      "text/plain": [
       "1.3247179572447898"
      ]
     },
     "execution_count": 9,
     "metadata": {},
     "output_type": "execute_result"
    }
   ],
   "source": [
    "def f(x):\n",
    "    return x**3-x-1\n",
    "def df(x):\n",
    "    return 3*x**2-1\n",
    "\n",
    "sol_i = newton_raphson(1,5)\n",
    "sol_i"
   ]
  },
  {
   "cell_type": "code",
   "execution_count": 10,
   "metadata": {},
   "outputs": [
    {
     "name": "stderr",
     "output_type": "stream",
     "text": [
      "/usr/lib/python3.8/site-packages/sympy/plotting/plot.py:1065: MatplotlibDeprecationWarning: \n",
      "The set_smart_bounds function was deprecated in Matplotlib 3.2 and will be removed two minor releases later.\n",
      "  self.ax[i].spines['left'].set_smart_bounds(True)\n",
      "/usr/lib/python3.8/site-packages/sympy/plotting/plot.py:1066: MatplotlibDeprecationWarning: \n",
      "The set_smart_bounds function was deprecated in Matplotlib 3.2 and will be removed two minor releases later.\n",
      "  self.ax[i].spines['bottom'].set_smart_bounds(False)\n"
     ]
    },
    {
     "data": {
      "image/png": "[encoded data removed]",
      "text/plain": [
       "<Figure size 432x288 with 1 Axes>"
      ]
     },
     "metadata": {
      "needs_background": "light"
     },
     "output_type": "display_data"
    },
    {
     "data": {
      "text/plain": [
       "<sympy.plotting.plot.Plot at 0x7fa02ca5bf70>"
      ]
     },
     "execution_count": 10,
     "metadata": {},
     "output_type": "execute_result"
    }
   ],
   "source": [
    "def f(x):\n",
    "    return x**2-3*x-sp.exp(x)+2\n",
    "def df(x):\n",
    "    return 2*x-3-sp.exp(x)\n",
    "a = 0\n",
    "b = 2\n",
    "sp.plot(f(x),(x,a,b),ylim= [-1.0, 1.0])"
   ]
  },
  {
   "cell_type": "code",
   "execution_count": 11,
   "metadata": {},
   "outputs": [
    {
     "data": {
      "text/latex": [
       "$\\displaystyle 0.257530285439682$"
      ],
      "text/plain": [
       "0.257530285439682"
      ]
     },
     "execution_count": 11,
     "metadata": {},
     "output_type": "execute_result"
    }
   ],
   "source": [
    "sol_ii = newton_raphson(0.5,5)\n",
    "sol_ii"
   ]
  },
  {
   "cell_type": "code",
   "execution_count": 12,
   "metadata": {},
   "outputs": [
    {
     "data": {
      "image/png": "[encoded data removed]",
      "text/plain": [
       "<Figure size 432x288 with 1 Axes>"
      ]
     },
     "metadata": {
      "needs_background": "light"
     },
     "output_type": "display_data"
    },
    {
     "data": {
      "text/plain": [
       "<sympy.plotting.plot.Plot at 0x7fa02c969490>"
      ]
     },
     "execution_count": 12,
     "metadata": {},
     "output_type": "execute_result"
    }
   ],
   "source": [
    "def f(x):\n",
    "    return x**2+x+10*sp.cos(x)\n",
    "def df(x):\n",
    "    return 2*x+1-10*sp.sin(x)\n",
    "a = -5\n",
    "b = 0\n",
    "sp.plot(f(x),(x,a,b),ylim= [-10.0, 10.0])"
   ]
  },
  {
   "cell_type": "code",
   "execution_count": 13,
   "metadata": {},
   "outputs": [
    {
     "data": {
      "text/latex": [
       "$\\displaystyle -1.68693989979647$"
      ],
      "text/plain": [
       "-1.68693989979647"
      ]
     },
     "execution_count": 13,
     "metadata": {},
     "output_type": "execute_result"
    }
   ],
   "source": [
    "sol_iii = newton_raphson(-1.5,5)\n",
    "sol_iii"
   ]
  },
  {
   "cell_type": "markdown",
   "metadata": {},
   "source": [
    "## Ejercicio 4"
   ]
  },
  {
   "cell_type": "markdown",
   "metadata": {},
   "source": [
    "4.- Para la función  $ f(x)= 3 x^2+e^x-1$, \n",
    "\n",
    "i) encuentre, mediante el método de bisección una aproximación de la raíz en $[0,1]$ con, al menos, cuatro decimales exactos, y determine el número de iteraciones realizadas;\n",
    "\n",
    "ii) encuentre, mediante el método de Newton-Raphson, una aproximación de la raíz en $[0,1]$ con una tolerancia de $10^{-4}$,\n",
    "partiendo de $x_0=0$, y determine el número de iteraciones realizadas.  "
   ]
  },
  {
   "cell_type": "code",
   "execution_count": 79,
   "metadata": {
    "scrolled": true
   },
   "outputs": [
    {
     "data": {
      "text/plain": [
       "[6.103515625e-05, 14]"
      ]
     },
     "execution_count": 79,
     "metadata": {},
     "output_type": "execute_result"
    }
   ],
   "source": [
    "def f(x):\n",
    "    return 3*x**2+sp.exp(x)-1\n",
    "sol_i = biseccion(0,1,4,0)\n",
    "[sol_i[0],sol_i[1]]"
   ]
  },
  {
   "cell_type": "code",
   "execution_count": 80,
   "metadata": {},
   "outputs": [
    {
     "data": {
      "text/plain": [
       "[0, 1]"
      ]
     },
     "execution_count": 80,
     "metadata": {},
     "output_type": "execute_result"
    }
   ],
   "source": [
    "def df(x):\n",
    "    return 6*x+sp.exp(x)\n",
    "\n",
    "def newton_raphson2(x_n,cifras,suc):\n",
    "    siguiente = x_n - f(x_n)/df(x_n)\n",
    "    suc.append(siguiente)\n",
    "    prec = 10**(-cifras)\n",
    "    error = x_n - siguiente\n",
    "    if (abs(error)>prec):\n",
    "        newton_raphson2(siguiente,cifras,suc)\n",
    "    niter = len(suc)\n",
    "    return [suc[niter-1],niter]\n",
    "\n",
    "suc = []\n",
    "sol_ii = newton_raphson2(0,4,suc)\n",
    "[sol_ii[0],sol_ii[1]]"
   ]
  },
  {
   "cell_type": "markdown",
   "metadata": {},
   "source": [
    "## Ejercicio 5"
   ]
  },
  {
   "cell_type": "markdown",
   "metadata": {},
   "source": [
    "Utilice las órdenes apropiadas de Python para aproximar todos los puntos donde se anulan las funciones siguientes (si es necesario, represéntelas gráficamente):\n",
    "\n",
    "i) $f(x)=x^7-x^4+2$ ,\n",
    "\n",
    "ii) $f(x)=x^7+\\cos  x-3$.\n"
   ]
  },
  {
   "cell_type": "code",
   "execution_count": 16,
   "metadata": {
    "scrolled": true
   },
   "outputs": [
    {
     "data": {
      "image/png": "[encoded data removed]",
      "text/plain": [
       "<Figure size 432x288 with 1 Axes>"
      ]
     },
     "metadata": {
      "needs_background": "light"
     },
     "output_type": "display_data"
    },
    {
     "name": "stdout",
     "output_type": "stream",
     "text": [
      "[ 1.06110281+0.37638405j  1.06110281-0.37638405j  0.15199934+1.01945595j\n",
      "  0.15199934-1.01945595j -0.71310215+0.98823189j -0.71310215-0.98823189j\n",
      " -1.        +0.j        ]\n"
     ]
    }
   ],
   "source": [
    "def fi(x):\n",
    "    return x**7-x**4+2\n",
    "a = -5\n",
    "b = 5\n",
    "sp.plot(fi(x),(x,a,b),ylim= [-10.0, 10.0])\n",
    "coefs_fi = [1,0,0,-1,0,0,0,2]\n",
    "print(np.roots(coefs_fi))"
   ]
  },
  {
   "cell_type": "markdown",
   "metadata": {},
   "source": [
    "Viendo la gráfica y las raíces del polinomio, podemos ver que el único punto donde se anula en $\\mathbb{R}$ es en $x=-1$."
   ]
  },
  {
   "cell_type": "code",
   "execution_count": 17,
   "metadata": {},
   "outputs": [
    {
     "data": {
      "image/png": "[encoded data removed]",
      "text/plain": [
       "<Figure size 432x288 with 1 Axes>"
      ]
     },
     "metadata": {
      "needs_background": "light"
     },
     "output_type": "display_data"
    },
    {
     "name": "stdout",
     "output_type": "stream",
     "text": [
      "1.14545980727001\n"
     ]
    }
   ],
   "source": [
    "def fii(x):\n",
    "    return x**7+sp.cos(x)-3\n",
    "a = -5\n",
    "b = 5\n",
    "sp.plot(fii(x),(x,a,b),ylim= [-5.0, 5.0])\n",
    "sol_ii = sp.nsolve(fii(x),x,2)\n",
    "print(sol_ii)"
   ]
  },
  {
   "cell_type": "markdown",
   "metadata": {},
   "source": [
    "Viendo la gráfica de la función, obtenemos el valor real aproximado de la raíz."
   ]
  },
  {
   "cell_type": "markdown",
   "metadata": {},
   "source": [
    "## Ejercicio 6"
   ]
  },
  {
   "cell_type": "markdown",
   "metadata": {},
   "source": [
    "Aplicar los métodos de aceleración de la convergencia de Aitken y Steffensen a las sucesiones obtenidas para los distintos métodos\n",
    "programados en esta práctica y comparar los resultados. Para aplicar el método de aceleración de Steffensen, recuerde que para transformar cualquier ecuación de la forma  $ f(x)=0 $  en un problema de puntos fijos  $ g(x)=x $, la forma más simple puede ser definir  $g(x)=x \\pm f(x)$."
   ]
  },
  {
   "cell_type": "code",
   "execution_count": 39,
   "metadata": {},
   "outputs": [
    {
     "data": {
      "text/latex": [
       "$\\displaystyle x^{3} + 0.125 x^{2} - 2 x$"
      ],
      "text/plain": [
       "x**3 + 0.125*x**2 - 2*x"
      ]
     },
     "execution_count": 39,
     "metadata": {},
     "output_type": "execute_result"
    }
   ],
   "source": [
    "def f(x):\n",
    "    return x**3+1/8*x**2-2*x\n",
    "\n",
    "def df(y): \n",
    "    return sp.diff(f(x),x).subs(x,y)\n",
    "\n",
    "def g(x):\n",
    "    return x - f(x)\n",
    "\n",
    "f(x)"
   ]
  },
  {
   "cell_type": "code",
   "execution_count": 40,
   "metadata": {},
   "outputs": [
    {
     "data": {
      "text/plain": [
       "[-1.47809395661327, 0.0, 1.35309395661327]"
      ]
     },
     "execution_count": 40,
     "metadata": {},
     "output_type": "execute_result"
    }
   ],
   "source": [
    "sols = sp.solve(f(x),x)\n",
    "sols"
   ]
  },
  {
   "cell_type": "code",
   "execution_count": 41,
   "metadata": {},
   "outputs": [
    {
     "data": {
      "image/png": "[encoded data removed]",
      "text/plain": [
       "<Figure size 432x288 with 1 Axes>"
      ]
     },
     "metadata": {
      "needs_background": "light"
     },
     "output_type": "display_data"
    },
    {
     "data": {
      "text/plain": [
       "<sympy.plotting.plot.Plot at 0x7fbbbd58cee0>"
      ]
     },
     "execution_count": 41,
     "metadata": {},
     "output_type": "execute_result"
    }
   ],
   "source": [
    "a = -5\n",
    "b = 5\n",
    "sp.plot(f(x),(x,a,b),ylim= [-10.0, 10.0])"
   ]
  },
  {
   "cell_type": "code",
   "execution_count": 48,
   "metadata": {},
   "outputs": [],
   "source": [
    "# Bisección con iteraciones\n",
    "def biseccion2(a0,b0,cifras,suc):\n",
    "    a = a0\n",
    "    b = b0\n",
    "    c = (a+b)/2\n",
    "    suc.append(c)\n",
    "    prec = 10**(-cifras)\n",
    "    if (abs(f(c))>prec):\n",
    "        if (np.sign(f(a))==np.sign(f(c))):\n",
    "            a = c\n",
    "            biseccion2(a,b,cifras,suc)\n",
    "        if (np.sign(f(b))==np.sign(f(c))):\n",
    "            b = c\n",
    "            biseccion2(a,b,cifras,suc)\n",
    "    return suc\n",
    "\n",
    "# Newton-Raphson con iteraciones\n",
    "def newton_raphson_it(x_n,cifras,suc):\n",
    "    siguiente = x_n - f(x_n)/df(x_n)\n",
    "    suc.append(siguiente)\n",
    "    prec = 10**(-cifras)\n",
    "    error = x_n - siguiente\n",
    "    if (abs(error)>prec):\n",
    "        newton_raphson_it(siguiente,cifras,suc)\n",
    "    return suc\n",
    "\n",
    "\n",
    "# Aitken\n",
    "def aitken(aprox):\n",
    "    k = 0\n",
    "    n = len(aprox)\n",
    "    ait = []\n",
    "    for k in range(n-2):\n",
    "        aproxacel = aprox[k]-(aprox[k+1]-aprox[k])**2/(aprox[k+2]-2*aprox[k+1]+aprox[k])\n",
    "        ait.append(aproxacel);\n",
    "    return ait\n",
    "\n",
    "# Steffensen\n",
    "def steffensen(suc,sol):\n",
    "    aprox = [suc[i] for i in range(len(suc))]\n",
    "    stef = [1]\n",
    "    while (abs(sol - stef[len(stef)-1]) > 10**(-5)):\n",
    "        v0 = aprox[0]-(aprox[1]-aprox[0])**2/(aprox[2]-2*aprox[1]+aprox[0])\n",
    "        v1 = g(v0)\n",
    "        v2 = g(v1)\n",
    "        stef.append(v0)\n",
    "        aprox.clear()\n",
    "        aprox.append(v0)\n",
    "        aprox.append(v1)\n",
    "        aprox.append(v2)\n",
    "    stef.pop(0)\n",
    "    return stef"
   ]
  },
  {
   "cell_type": "markdown",
   "metadata": {},
   "source": [
    "**Bisección**"
   ]
  },
  {
   "cell_type": "code",
   "execution_count": 50,
   "metadata": {},
   "outputs": [
    {
     "name": "stdout",
     "output_type": "stream",
     "text": [
      "Bisección:\n",
      " [-1.25, -1.625, -1.4375, -1.53125, -1.484375, -1.4609375, -1.47265625, -1.478515625, -1.4755859375, -1.47705078125, -1.477783203125, -1.4781494140625, -1.47796630859375, -1.478057861328125, -1.4781036376953125, -1.4780807495117188, -1.4780921936035156]\n",
      "Aitken:\n",
      " [-1.5, -1.5, -1.5, -1.4375, -1.46875, -1.484375, -1.4765625, -1.4765625, -1.478515625, -1.478515625, -1.47802734375, -1.47802734375, -1.4781494140625, -1.47808837890625, -1.47808837890625]\n",
      "Steffensen:\n",
      " [-1.5, -1.4764069796018677, -1.4780846719666263]\n"
     ]
    }
   ],
   "source": [
    "ite = []\n",
    "sol_b = biseccion2(-2,-0.5,5,ite)\n",
    "sol_ait = aitken(sol_b)\n",
    "sol_stef = steffensen(sol_b,sols[0])\n",
    "print(\"Bisección:\\n\",sol_b)\n",
    "print(\"Aitken:\\n\",sol_ait)\n",
    "print(\"Steffensen:\\n\",sol_stef)"
   ]
  },
  {
   "cell_type": "markdown",
   "metadata": {},
   "source": [
    "**Newton-Raphson**"
   ]
  },
  {
   "cell_type": "code",
   "execution_count": 55,
   "metadata": {},
   "outputs": [
    {
     "name": "stdout",
     "output_type": "stream",
     "text": [
      "Newton-Raphson:\n",
      " [-1.63157894736842, -1.49758894442811, -1.47847351807331, -1.47809410487718, -1.47809395661329, -1.47809395661327]\n",
      "Aitken:\n",
      " [-1.47529266173776, -1.47808642157913, -1.47809395655533, -1.47809395661327]\n",
      "Steffensen:\n",
      " [-1.47529266173776, -1.47806844289866, -1.47809395447863]\n"
     ]
    }
   ],
   "source": [
    "ite = []\n",
    "sol_b = newton_raphson_it(-2,10,ite)\n",
    "sol_ait = aitken(sol_b)\n",
    "sol_stef = steffensen(sol_b,sols[0])\n",
    "print(\"Newton-Raphson:\\n\",sol_b)\n",
    "print(\"Aitken:\\n\",sol_ait)\n",
    "print(\"Steffensen:\\n\",sol_stef)"
   ]
  },
  {
   "cell_type": "markdown",
   "metadata": {},
   "source": [
    "**Regula-Falsi**"
   ]
  },
  {
   "cell_type": "code",
   "execution_count": 60,
   "metadata": {},
   "outputs": [],
   "source": [
    "def regula_falsi(a0,b0,cifras,suc):\n",
    "    a = a0\n",
    "    b = b0\n",
    "    c = b - ((a-b)*f(b))/(f(a)-f(b))\n",
    "    suc.append(c)\n",
    "    prec = 10**(-cifras)\n",
    "    if (abs(f(c))>prec):\n",
    "        if (np.sign(f(a))==np.sign(f(c))):\n",
    "            a = c\n",
    "            biseccion2(a,b,cifras,suc)\n",
    "        if (np.sign(f(b))==np.sign(f(c))):\n",
    "            b = c\n",
    "            biseccion2(a,b,cifras,suc)\n",
    "    return suc"
   ]
  },
  {
   "cell_type": "code",
   "execution_count": 68,
   "metadata": {},
   "outputs": [
    {
     "name": "stdout",
     "output_type": "stream",
     "text": [
      "Bisección:\n",
      " [-1.2432432432432432, -1.6216216216216215, -1.4324324324324325, -1.527027027027027, -1.4797297297297298, -1.4560810810810811, -1.4679054054054055, -1.4738175675675675, -1.4767736486486487, -1.4782516891891893, -1.4775126689189189, -1.477882179054054, -1.4780669341216215, -1.4781593116554053, -1.4781131228885134]\n",
      "Aitken:\n",
      " [-1.4954954954954953, -1.4954954954954955, -1.4954954954954955, -1.4324324324324322, -1.463963963963964, -1.4797297297297294, -1.47972972972973, -1.4797297297297298, -1.477759009009009, -1.477759009009009, -1.478251689189189, -1.478251689189189, -1.478128519144144]\n",
      "Steffensen:\n",
      " [-1.4954954954954953, -1.477044818270447, -1.4780903585596066]\n"
     ]
    }
   ],
   "source": [
    "ite = []\n",
    "sol_b = regula_falsi(-2,-1,4,ite)\n",
    "sol_ait = aitken(sol_b)\n",
    "sol_stef = steffensen(sol_b,sols[0])\n",
    "print(\"Regula-Falsi:\\n\",sol_b)\n",
    "print(\"Aitken:\\n\",sol_ait)\n",
    "print(\"Steffensen:\\n\",sol_stef)"
   ]
  },
  {
   "cell_type": "markdown",
   "metadata": {},
   "source": [
    "**Secante**"
   ]
  },
  {
   "cell_type": "code",
   "execution_count": 69,
   "metadata": {},
   "outputs": [],
   "source": [
    "def secante(x0,x1,cifras,suc):\n",
    "    x2 = x1 - (x1-x0)/(f(x1)-f(x0))*f(x1)\n",
    "    suc.append(x2)\n",
    "    prec = 10**(-cifras)\n",
    "    error = x1 - x2\n",
    "    if (abs(error)>prec):\n",
    "        secante(x1,x2,cifras,suc)\n",
    "    return suc"
   ]
  },
  {
   "cell_type": "code",
   "execution_count": 73,
   "metadata": {
    "scrolled": true
   },
   "outputs": [
    {
     "name": "stdout",
     "output_type": "stream",
     "text": [
      "Secante:\n",
      " [-1.786259541984733, -1.577802536130012, -1.5019409305972014, -1.4803222819754862, -1.478147560363659, -1.4780940793905468, -1.4780939566200424]\n",
      "Aitken:\n",
      " [-1.458538345137645, -1.471706122480435, -1.4779043268807033, -1.4780927310218457, -1.478093956337563]\n",
      "Steffensen:\n",
      " [-1.458538345137645, -1.4769120028975646, -1.4780893917800675]\n"
     ]
    }
   ],
   "source": [
    "ite = []\n",
    "sol_b = secante(-3,-2,5,ite)\n",
    "sol_ait = aitken(sol_b)\n",
    "sol_stef = steffensen(sol_b,sols[0])\n",
    "print(\"Secante:\\n\",sol_b)\n",
    "print(\"Aitken:\\n\",sol_ait)\n",
    "print(\"Steffensen:\\n\",sol_stef)"
   ]
  },
  {
   "cell_type": "markdown",
   "metadata": {},
   "source": [
    "**Whittacker**"
   ]
  },
  {
   "cell_type": "code",
   "execution_count": 78,
   "metadata": {},
   "outputs": [],
   "source": [
    "def whittacker(x0,m,cifras,suc):\n",
    "    x1 = x0 - f(x0)/m\n",
    "    suc.append(x1)\n",
    "    prec = 10**(-cifras)\n",
    "    error = x0 - x1\n",
    "    if (abs(error)>prec):\n",
    "        whittacker(x1,m,cifras,suc)\n",
    "    return suc"
   ]
  },
  {
   "cell_type": "code",
   "execution_count": 82,
   "metadata": {},
   "outputs": [
    {
     "name": "stdout",
     "output_type": "stream",
     "text": [
      "Whittacker:\n",
      " [-1.46875, -1.481658935546875, -1.4766678022952817, -1.4786542537001146, -1.4778722327615903, -1.4781814493124688, -1.4780593929495824, -1.4781076047994173, -1.4780885663960854, -1.4780960852792344]\n",
      "Aitken:\n",
      " [-1.4780594958924198, -1.478088730044285, -1.478093133197803, -1.4780938287200076, -1.4780939366346726, -1.4780939534993458, -1.4780939561274895, -1.4780939565375104]\n",
      "Steffensen:\n",
      " [-1.4780594958924198, -1.4780939527191082]\n"
     ]
    }
   ],
   "source": [
    "ite = []\n",
    "sol_b = whittacker(-1.5,3,5,ite)\n",
    "sol_ait = aitken(sol_b)\n",
    "sol_stef = steffensen(sol_b,sols[0])\n",
    "print(\"Whittacker:\\n\",sol_b)\n",
    "print(\"Aitken:\\n\",sol_ait)\n",
    "print(\"Steffensen:\\n\",sol_stef)"
   ]
  },
  {
   "cell_type": "markdown",
   "metadata": {},
   "source": [
    "## Ejercicio 7"
   ]
  },
  {
   "cell_type": "markdown",
   "metadata": {},
   "source": [
    " Programar el método de Newton-Raphson acelerado para el caso de una raíz múltiple de una ecuación y comparar los resultados con los que se obtienen mediante el empleo de los métodos de aceleración anteriores."
   ]
  },
  {
   "cell_type": "code",
   "execution_count": 109,
   "metadata": {},
   "outputs": [
    {
     "data": {
      "text/latex": [
       "$\\displaystyle 0.25 x^{2} - x - 1$"
      ],
      "text/plain": [
       "0.25*x**2 - x - 1"
      ]
     },
     "execution_count": 109,
     "metadata": {},
     "output_type": "execute_result"
    }
   ],
   "source": [
    "def f(x):\n",
    "    return 1/4*x**2-x-1\n",
    "\n",
    "def df(y): \n",
    "    return sp.diff(f(x),x).subs(x,y)\n",
    "\n",
    "def g(x):\n",
    "    return x - f(x)\n",
    "\n",
    "f(x)"
   ]
  },
  {
   "cell_type": "code",
   "execution_count": 116,
   "metadata": {},
   "outputs": [
    {
     "data": {
      "image/png": "[encoded data removed]",
      "text/plain": [
       "<Figure size 432x288 with 1 Axes>"
      ]
     },
     "metadata": {
      "needs_background": "light"
     },
     "output_type": "display_data"
    },
    {
     "data": {
      "text/plain": [
       "<sympy.plotting.plot.Plot at 0x7fbbbd034040>"
      ]
     },
     "execution_count": 116,
     "metadata": {},
     "output_type": "execute_result"
    }
   ],
   "source": [
    "a = -5\n",
    "b = 10\n",
    "sp.plot(f(x),(x,a,b),ylim= [-10.0, 10.0])"
   ]
  },
  {
   "cell_type": "code",
   "execution_count": 125,
   "metadata": {},
   "outputs": [
    {
     "data": {
      "text/plain": [
       "[-0.828427124746190, 4.82842712474619]"
      ]
     },
     "execution_count": 125,
     "metadata": {},
     "output_type": "execute_result"
    }
   ],
   "source": [
    "sols = sp.solve(f(x),x)\n",
    "sols"
   ]
  },
  {
   "cell_type": "code",
   "execution_count": 126,
   "metadata": {},
   "outputs": [],
   "source": [
    "def newton_raphson_acelerado(x0,m,cifras,suc):\n",
    "    x1 = x0 - m*f(x0)/df(x0)\n",
    "    suc.append(x1)\n",
    "    prec = 10**(-cifras)\n",
    "    error = x0 - x1\n",
    "    if (abs(error)>prec):\n",
    "        newton_raphson_acelerado(x1,m,cifras,suc)\n",
    "    return suc"
   ]
  },
  {
   "cell_type": "code",
   "execution_count": 137,
   "metadata": {},
   "outputs": [
    {
     "name": "stdout",
     "output_type": "stream",
     "text": [
      "Newton-Raphson acelerado:\n",
      " [5.50000000000000, 4.58928571428571, 4.96456280788177, 4.76504789801568, 4.86120630143795, 4.81231918537404, 4.83655028973702, 4.82438298927341, 4.83045353547496, 4.82741500746020, 4.82893345511656, 4.82817402752932, 5.00000000000000, 4.83333333333333, 4.82843137254902, 4.82842712474938, 5.00000000000000, 4.83333333333333, 4.82843137254902, 4.82842712474938]\n",
      "Aitken (Sobre NR):\n",
      " [4.85504971219257, 4.83430112182379, 4.82993381882569, 4.82879642731514, 4.82852019251609, 4.82845028841130, 4.82843292789657, 4.82842857396292, 4.82842748724411, 4.82842721534629, 4.82893011340712, 4.91539649975423, 4.82828282828283, 4.82842712106525]\n",
      "Steffensen (Sobre NR):\n",
      " [4.85504971219257, 4.82837453626669, 4.82842712454369]\n"
     ]
    }
   ],
   "source": [
    "ite = []\n",
    "sol_b = newton_raphson_acelerado(4,1.5,3,ite)\n",
    "sol_ait = aitken(newton_raphson_it(4,3,ite))\n",
    "sol_stef = steffensen(newton_raphson_it(4,3,ite),sols[1])\n",
    "print(\"Newton-Raphson acelerado:\\n\",sol_b)\n",
    "print(\"Aitken (Sobre NR):\\n\",sol_ait)\n",
    "print(\"Steffensen (Sobre NR):\\n\",sol_stef)"
   ]
  },
  {
   "cell_type": "markdown",
   "metadata": {},
   "source": [
    "## Ejercicio 8"
   ]
  },
  {
   "cell_type": "markdown",
   "metadata": {},
   "source": [
    "Programar el conocido algoritmo de Horner para la evaluación de un polinomio y emplearlo de forma reiterativa para el cálculo del\n",
    "desarrollo de Taylor de orden $ n$ de un polinomio cualquiera. Aprovecharlo también para programar una versión especial del método de Newton-Raphson para polinomios, evaluando tanto  $ p(x_k ) $ como $ p'(x_k)$ mediante el citado algoritmo."
   ]
  },
  {
   "cell_type": "code",
   "execution_count": 85,
   "metadata": {},
   "outputs": [
    {
     "data": {
      "text/latex": [
       "$\\displaystyle 5 x^{7} + 4 x^{6} + 6 x^{5} + 3 x^{4} + 7 x^{3} + 4 x^{2} + 5 x + 1$"
      ],
      "text/plain": [
       "5*x**7 + 4*x**6 + 6*x**5 + 3*x**4 + 7*x**3 + 4*x**2 + 5*x + 1"
      ]
     },
     "execution_count": 85,
     "metadata": {},
     "output_type": "execute_result"
    }
   ],
   "source": [
    "def p(x):\n",
    "    return 5*x**7+4*x**6+6*x**5+3*x**4+7*x**3+4*x**2+5*x+1\n",
    "coefs_px = [5,4,6,3,7,4,5,1]\n",
    "p(x)"
   ]
  },
  {
   "cell_type": "code",
   "execution_count": 11,
   "metadata": {},
   "outputs": [
    {
     "name": "stdout",
     "output_type": "stream",
     "text": [
      "Valor para x=0:  5\n",
      "Valor para x=2:  429\n",
      "Valor para x=-1:  33\n"
     ]
    }
   ],
   "source": [
    "def horner(coefs,x0):\n",
    "    b_n = [coefs[0]]\n",
    "    k = 1\n",
    "    for k in range(1,len(coefs)):\n",
    "        b = coefs[k] +b_n[k-1]*x0\n",
    "        b_n.append(b)\n",
    "    return b_n[len(b_n)-1]\n",
    "print(\"Valor para x=0: \",horner(coefs_px,0))\n",
    "print(\"Valor para x=2: \",horner(coefs_px,2))\n",
    "print(\"Valor para x=-1: \",horner(coefs_px,-1))"
   ]
  },
  {
   "cell_type": "code",
   "execution_count": 87,
   "metadata": {},
   "outputs": [
    {
     "data": {
      "text/latex": [
       "$\\displaystyle 35 x^{6} + 24 x^{5} + 30 x^{4} + 12 x^{3} + 21 x^{2} + 8 x + 5$"
      ],
      "text/plain": [
       "35*x**6 + 24*x**5 + 30*x**4 + 12*x**3 + 21*x**2 + 8*x + 5"
      ]
     },
     "execution_count": 87,
     "metadata": {},
     "output_type": "execute_result"
    }
   ],
   "source": [
    "def dp(x):\n",
    "    return 35*x**6+24*x**5+30*x**4+12*x**3+21*x**2+8*x+5\n",
    "coefs_dpx = [35,24,30,12,21,8,5]\n",
    "dp(x)"
   ]
  },
  {
   "cell_type": "code",
   "execution_count": 12,
   "metadata": {},
   "outputs": [
    {
     "name": "stdout",
     "output_type": "stream",
     "text": [
      "Raíces de p(x):  [-5.89940936+0.j         -0.58250628+0.77098492j -0.58250628-0.77098492j\n",
      "  0.73750883+0.60111992j  0.73750883-0.60111992j  0.29470213+0.95699252j\n",
      "  0.29470213-0.95699252j]\n",
      "Aproximación con Newton-Raphson:  -5.899409361191095\n"
     ]
    }
   ],
   "source": [
    "print(\"Raíces de p(x): \",np.roots(coefs_px))\n",
    "def newton_raphson_pol(x_n,coefs_f,coefs_d):\n",
    "    siguiente = x_n - (horner(coefs_f,x_n)/horner(coefs_d,x_n))\n",
    "    prec = 10**(-5)\n",
    "    error = x_n - siguiente\n",
    "    if (abs(error)>prec):\n",
    "        siguiente = newton_raphson_pol(siguiente,coefs_f,coefs_d)\n",
    "    return siguiente\n",
    "print(\"Aproximación con Newton-Raphson: \",newton_raphson_pol(0,coefs_px,coefs_dpx))"
   ]
  }
 ],
 "metadata": {
  "anaconda-cloud": {},
  "kernelspec": {
   "display_name": "Python 3 (ipykernel)",
   "language": "python",
   "name": "python3"
  },
  "language_info": {
   "codemirror_mode": {
    "name": "ipython",
    "version": 3
   },
   "file_extension": ".py",
   "mimetype": "text/x-python",
   "name": "python",
   "nbconvert_exporter": "python",
   "pygments_lexer": "ipython3",
   "version": "3.10.2"
  }
 },
 "nbformat": 4,
 "nbformat_minor": 1
}
